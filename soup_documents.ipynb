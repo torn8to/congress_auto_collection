{
 "cells": [
  {
   "cell_type": "code",
   "execution_count": null,
   "metadata": {
    "collapsed": true,
    "ExecuteTime": {
     "end_time": "2023-08-30T15:25:06.317495900Z",
     "start_time": "2023-08-30T15:24:55.173982100Z"
    }
   },
   "outputs": [
    {
     "name": "stdout",
     "output_type": "stream",
     "text": [
      "Index(['Prefix', 'Last', 'First', 'Suffix', 'FilingType', 'StateDst', 'Year',\n",
      "       'FilingDate', 'DocID'],\n",
      "      dtype='object')\n",
      "C:\\Users\\Nathan\\AppData\\Local\\Temp\\tmp62pmx6v7202320022986.pdf\n"
     ]
    },
    {
     "ename": "TypeError",
     "evalue": "parse_html() missing 1 required positional argument: 'pdf_location'",
     "output_type": "error",
     "traceback": [
      "\u001B[1;31m---------------------------------------------------------------------------\u001B[0m",
      "\u001B[1;31mTypeError\u001B[0m                                 Traceback (most recent call last)",
      "Cell \u001B[1;32mIn[1], line 3\u001B[0m\n\u001B[0;32m      1\u001B[0m \u001B[38;5;28;01mfrom\u001B[39;00m \u001B[38;5;21;01mbs4\u001B[39;00m \u001B[38;5;28;01mimport\u001B[39;00m BeautifulSoup\n\u001B[0;32m      2\u001B[0m \u001B[38;5;28;01mimport\u001B[39;00m \u001B[38;5;21;01mrequests\u001B[39;00m\n\u001B[1;32m----> 3\u001B[0m \u001B[38;5;28;01mfrom\u001B[39;00m \u001B[38;5;21;01mHouse\u001B[39;00m \u001B[38;5;28;01mimport\u001B[39;00m transaction\n",
      "File \u001B[1;32m~\\PycharmProjects\\political_transaction_data_gathering\\House.py:235\u001B[0m\n\u001B[0;32m    232\u001B[0m     company_code \u001B[38;5;241m=\u001B[39m data[\u001B[38;5;124m'\u001B[39m\u001B[38;5;124mquotes\u001B[39m\u001B[38;5;124m'\u001B[39m][\u001B[38;5;241m0\u001B[39m][\u001B[38;5;124m'\u001B[39m\u001B[38;5;124msymbol\u001B[39m\u001B[38;5;124m'\u001B[39m]\n\u001B[0;32m    233\u001B[0m     \u001B[38;5;28;01mreturn\u001B[39;00m company_code\n\u001B[1;32m--> 235\u001B[0m \u001B[43mrunHouseCollection\u001B[49m\u001B[43m(\u001B[49m\u001B[43m)\u001B[49m\n",
      "File \u001B[1;32m~\\PycharmProjects\\political_transaction_data_gathering\\House.py:165\u001B[0m, in \u001B[0;36mrunHouseCollection\u001B[1;34m()\u001B[0m\n\u001B[0;32m    163\u001B[0m doc \u001B[38;5;241m=\u001B[39m aw\u001B[38;5;241m.\u001B[39mDocument(filename\u001B[38;5;241m.\u001B[39m\u001B[38;5;21m__str__\u001B[39m())\n\u001B[0;32m    164\u001B[0m doc\u001B[38;5;241m.\u001B[39msave(\u001B[38;5;124m'\u001B[39m\u001B[38;5;124m./dump_directory/file\u001B[39m\u001B[38;5;124m'\u001B[39m \u001B[38;5;241m+\u001B[39m \u001B[38;5;28mstr\u001B[39m(x) \u001B[38;5;241m+\u001B[39m \u001B[38;5;124m'\u001B[39m\u001B[38;5;124m.html\u001B[39m\u001B[38;5;124m'\u001B[39m)\n\u001B[1;32m--> 165\u001B[0m \u001B[43mparse_html\u001B[49m\u001B[43m(\u001B[49m\u001B[38;5;124;43m'\u001B[39;49m\u001B[38;5;124;43m./dump_directory/file\u001B[39;49m\u001B[38;5;124;43m'\u001B[39;49m\u001B[43m \u001B[49m\u001B[38;5;241;43m+\u001B[39;49m\u001B[43m \u001B[49m\u001B[38;5;28;43mstr\u001B[39;49m\u001B[43m(\u001B[49m\u001B[43mx\u001B[49m\u001B[43m)\u001B[49m\u001B[43m \u001B[49m\u001B[38;5;241;43m+\u001B[39;49m\u001B[43m \u001B[49m\u001B[38;5;124;43m'\u001B[39;49m\u001B[38;5;124;43m.html\u001B[39;49m\u001B[38;5;124;43m'\u001B[39;49m\u001B[43m)\u001B[49m\n",
      "\u001B[1;31mTypeError\u001B[0m: parse_html() missing 1 required positional argument: 'pdf_location'"
     ]
    }
   ],
   "source": [
    "from bs4 import BeautifulSoup\n",
    "import requests\n",
    "from House import transaction"
   ]
  },
  {
   "cell_type": "code",
   "execution_count": null,
   "outputs": [],
   "source": [],
   "metadata": {
    "collapsed": false
   }
  },
  {
   "cell_type": "code",
   "execution_count": null,
   "outputs": [],
   "source": [
    "file_location ='./dump_directory/file18.html'"
   ],
   "metadata": {
    "collapsed": false
   }
  },
  {
   "cell_type": "code",
   "execution_count": null,
   "outputs": [],
   "source": [
    "def parse_html(file_location:str,pdf):\n",
    "    data_text =\"font-size:\"\n",
    "    soup = BeautifulSoup(open(file_location),'html.parser')\n",
    "    doc_type =  determine_document_type(file_location)\n",
    "    switcher ={\n",
    "        'ClASSIC_PTR':parse_classic,\n",
    "        \"MAIL_IN_PTR\":parse_mail_in,\n",
    "    }\n",
    "    func = switcher.get(doc_type)\n",
    "    return func(file_location)\n",
    "\n",
    "\n",
    "def parse_classic(file_location):\n",
    "    soup = BeautifulSoup(open(file_location),'html.parser')\n",
    "    tables = soup.find('tbody')\n",
    "    table_rows = soup.find_all('tr')\n",
    "    buffer = table_rows\n",
    "    for x in table_rows:\n",
    "        #print(table_rows[x].text\n",
    "        if \":\" in x.getText():\n",
    "            table_rows.remove(x)\n",
    "    print(len(buffer))\n",
    "    print(len(table_rows))\n",
    "    l = []\n",
    "    for x in buffer:\n",
    "        l.append(x.text)\n",
    "    result = []\n",
    "    [result.append(x) for x in l if \"D:\" not in x ]\n",
    "    for x in result:\n",
    "        print(x)\n",
    "    result.pop(0)\n",
    "\n",
    "    return result,\n",
    "\n",
    "def parse_mail_in():\n",
    "    return \"two\"\n",
    "\n",
    "def determine_document_type(file_location,pdf_location=None):\n",
    "    soup= BeautifulSoup(open(file_location))\n",
    "    body = soup.find(\"body\")\n",
    "    p_list = body.find_all(\"p\")\n",
    "    title = None\n",
    "    for x in p_list:\n",
    "        for z in x['style'].split():\n",
    "            if 'margin-left:95.65' in z and 'P' in x.text:\n",
    "                title = True\n",
    "    if title:\n",
    "        return 'ClASSIC_PTR'\n",
    "    else:\n",
    "        return 'MAIL_IN_PTR'\n",
    "\n",
    "\n",
    "\n",
    "\n",
    "\n",
    "parse_html(file_location)"
   ],
   "metadata": {
    "collapsed": false
   }
  },
  {
   "cell_type": "code",
   "execution_count": 48,
   "outputs": [],
   "source": [
    "from House import housePTRentry\n",
    "import House\n",
    "\n",
    "entry = housePTRentry(name='Rohit Khanna',link=None,representative='Rohit Khanna')"
   ],
   "metadata": {
    "collapsed": false,
    "ExecuteTime": {
     "end_time": "2023-09-07T19:57:09.689031100Z",
     "start_time": "2023-09-07T19:57:09.683025200Z"
    }
   }
  },
  {
   "cell_type": "code",
   "execution_count": 49,
   "outputs": [
    {
     "ename": "TypeError",
     "evalue": "rotate(): incompatible function arguments. The following argument types are supported:\n    1. (self: pikepdf._core.Page, angle: int, relative: bool) -> None\n\nInvoked with: <pikepdf.Page({\n  \"/Contents\": pikepdf.Stream(owner=<...>, data=b'q\\rq\\r610.56 0 0 792 0'..., {\n    \"/Filter\": \"/FlateDecode\",\n    \"/Length\": 43\n  }),\n  \"/MediaBox\": [ 0, 0, Decimal('610.56'), 792 ],\n  \"/Parent\": <reference to /Pages>,\n  \"/Resources\": {\n    \"/ProcSet\": [ \"/PDF\", \"/Text\", \"/ImageB\" ],\n    \"/XObject\": {\n      \"/im1\": pikepdf.Stream(owner=<...>, data=<...>, {\n        \"/BitsPerComponent\": 1,\n        \"/ColorSpace\": \"/DeviceGray\",\n        \"/DecodeParms\": {\n          \"/Columns\": 1696,\n          \"/EncodedByteAlign\": False,\n          \"/EndOfBlock\": True,\n          \"/EndOfLine\": False,\n          \"/K\": -1\n        },\n        \"/Filter\": \"/CCITTFaxDecode\",\n        \"/Height\": 2200,\n        \"/Interpolate\": True,\n        \"/Length\": 28392,\n        \"/Name\": \"/im1\",\n        \"/Subtype\": \"/Image\",\n        \"/Type\": \"/XObject\",\n        \"/Width\": 1696\n      })\n    }\n  },\n  \"/Tabs\": \"/S\",\n  \"/Type\": \"/Page\"\n})>, 270",
     "output_type": "error",
     "traceback": [
      "\u001B[1;31m---------------------------------------------------------------------------\u001B[0m",
      "\u001B[1;31mTypeError\u001B[0m                                 Traceback (most recent call last)",
      "Cell \u001B[1;32mIn[49], line 1\u001B[0m\n\u001B[1;32m----> 1\u001B[0m \u001B[43mentry\u001B[49m\u001B[38;5;241;43m.\u001B[39;49m\u001B[43mparse_mail_in\u001B[49m\u001B[43m(\u001B[49m\u001B[38;5;28;43;01mNone\u001B[39;49;00m\u001B[43m,\u001B[49m\u001B[43m \u001B[49m\u001B[43mpdf_location\u001B[49m\u001B[38;5;241;43m=\u001B[39;49m\u001B[38;5;124;43m'\u001B[39;49m\u001B[38;5;124;43m./not_parse_able/9110456.pdf\u001B[39;49m\u001B[38;5;124;43m'\u001B[39;49m\u001B[43m)\u001B[49m\n",
      "File \u001B[1;32m~\\PycharmProjects\\political_transaction_data_gathering\\House.py:207\u001B[0m, in \u001B[0;36mhousePTRentry.parse_mail_in\u001B[1;34m(self, file_location, pdf_location)\u001B[0m\n\u001B[0;32m    205\u001B[0m \u001B[38;5;28;01mwith\u001B[39;00m pikepdf\u001B[38;5;241m.\u001B[39mPdf\u001B[38;5;241m.\u001B[39mopen(pdf_location) \u001B[38;5;28;01mas\u001B[39;00m my_pdf:\n\u001B[0;32m    206\u001B[0m     \u001B[38;5;28;01mfor\u001B[39;00m page \u001B[38;5;129;01min\u001B[39;00m my_pdf\u001B[38;5;241m.\u001B[39mpages:\n\u001B[1;32m--> 207\u001B[0m         \u001B[43mpage\u001B[49m\u001B[38;5;241;43m.\u001B[39;49m\u001B[43mrotate\u001B[49m\u001B[43m(\u001B[49m\u001B[38;5;241;43m270\u001B[39;49m\u001B[43m)\u001B[49m\n\u001B[0;32m    209\u001B[0m     my_pdf\u001B[38;5;241m.\u001B[39msave(pdf_location)\n\u001B[0;32m    210\u001B[0m     my_pdf\u001B[38;5;241m.\u001B[39msave(\u001B[38;5;124m'\u001B[39m\u001B[38;5;124m./not_parse_able/\u001B[39m\u001B[38;5;124m'\u001B[39m \u001B[38;5;241m+\u001B[39m my_pdf\u001B[38;5;241m.\u001B[39mfilename)\n",
      "\u001B[1;31mTypeError\u001B[0m: rotate(): incompatible function arguments. The following argument types are supported:\n    1. (self: pikepdf._core.Page, angle: int, relative: bool) -> None\n\nInvoked with: <pikepdf.Page({\n  \"/Contents\": pikepdf.Stream(owner=<...>, data=b'q\\rq\\r610.56 0 0 792 0'..., {\n    \"/Filter\": \"/FlateDecode\",\n    \"/Length\": 43\n  }),\n  \"/MediaBox\": [ 0, 0, Decimal('610.56'), 792 ],\n  \"/Parent\": <reference to /Pages>,\n  \"/Resources\": {\n    \"/ProcSet\": [ \"/PDF\", \"/Text\", \"/ImageB\" ],\n    \"/XObject\": {\n      \"/im1\": pikepdf.Stream(owner=<...>, data=<...>, {\n        \"/BitsPerComponent\": 1,\n        \"/ColorSpace\": \"/DeviceGray\",\n        \"/DecodeParms\": {\n          \"/Columns\": 1696,\n          \"/EncodedByteAlign\": False,\n          \"/EndOfBlock\": True,\n          \"/EndOfLine\": False,\n          \"/K\": -1\n        },\n        \"/Filter\": \"/CCITTFaxDecode\",\n        \"/Height\": 2200,\n        \"/Interpolate\": True,\n        \"/Length\": 28392,\n        \"/Name\": \"/im1\",\n        \"/Subtype\": \"/Image\",\n        \"/Type\": \"/XObject\",\n        \"/Width\": 1696\n      })\n    }\n  },\n  \"/Tabs\": \"/S\",\n  \"/Type\": \"/Page\"\n})>, 270"
     ]
    }
   ],
   "source": [
    "entry.parse_mail_in(None, pdf_location='./not_parse_able/9110456.pdf')\n",
    "\n"
   ],
   "metadata": {
    "collapsed": false,
    "ExecuteTime": {
     "end_time": "2023-09-07T19:57:11.591766400Z",
     "start_time": "2023-09-07T19:57:11.548629900Z"
    }
   }
  }
 ],
 "metadata": {
  "kernelspec": {
   "display_name": "Python 3",
   "language": "python",
   "name": "python3"
  },
  "language_info": {
   "codemirror_mode": {
    "name": "ipython",
    "version": 2
   },
   "file_extension": ".py",
   "mimetype": "text/x-python",
   "name": "python",
   "nbconvert_exporter": "python",
   "pygments_lexer": "ipython2",
   "version": "2.7.6"
  }
 },
 "nbformat": 4,
 "nbformat_minor": 0
}
