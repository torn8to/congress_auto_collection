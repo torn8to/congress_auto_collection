{
 "cells": [
  {
   "cell_type": "code",
   "execution_count": 1,
   "metadata": {
    "collapsed": true,
    "ExecuteTime": {
     "end_time": "2023-09-11T01:25:15.178689500Z",
     "start_time": "2023-09-11T01:25:15.158672600Z"
    }
   },
   "outputs": [],
   "source": [
    "import pickle\n",
    "import time"
   ]
  },
  {
   "cell_type": "code",
   "execution_count": 2,
   "outputs": [],
   "source": [
    "file = open('senate_transactions1.pkl','rb')\n",
    "data = pickle.load(file)\n",
    "file.close()"
   ],
   "metadata": {
    "collapsed": false,
    "ExecuteTime": {
     "end_time": "2023-09-11T01:25:16.008429600Z",
     "start_time": "2023-09-11T01:25:15.163677900Z"
    }
   }
  },
  {
   "cell_type": "code",
   "execution_count": 3,
   "outputs": [],
   "source": [
    "from Senate import senatePTREntry, transaction\n",
    "ptr_list:list[senatePTREntry] = []\n",
    "for x in range(len(data)):\n",
    "    for y in range(len(data[x])):\n",
    "        ptr_list.append(data[x][y])"
   ],
   "metadata": {
    "collapsed": false,
    "ExecuteTime": {
     "end_time": "2023-09-11T01:25:16.012433900Z",
     "start_time": "2023-09-11T01:25:16.004425800Z"
    }
   }
  },
  {
   "cell_type": "markdown",
   "source": [],
   "metadata": {
    "collapsed": false
   }
  },
  {
   "cell_type": "code",
   "execution_count": 4,
   "outputs": [],
   "source": [
    "transactions:list[transaction] = []\n",
    "for x in ptr_list:\n",
    "    for t in x.transactions:\n",
    "        transactions.append(t)"
   ],
   "metadata": {
    "collapsed": false,
    "ExecuteTime": {
     "end_time": "2023-09-11T01:25:16.017437700Z",
     "start_time": "2023-09-11T01:25:16.011432800Z"
    }
   }
  },
  {
   "cell_type": "code",
   "execution_count": 7,
   "outputs": [
    {
     "data": {
      "text/plain": "                  name reportDate transactionDate  \\\n0         John Boozman 2023-09-07      08/29/2023   \n1         John Boozman 2023-09-07      08/29/2023   \n2       Maria Cantwell 2023-01-13      12/28/2022   \n3     Shelley M Capito 2021-09-15      08/25/2021   \n4     Shelley M Capito 2021-09-15      08/17/2021   \n...                ...        ...             ...   \n3275       Ron L Wyden 2020-07-02      06/12/2020   \n3276       Ron L Wyden 2020-07-02      06/12/2020   \n3277       Ron L Wyden 2020-07-02      06/12/2020   \n3278       Ron L Wyden 2020-07-02      06/02/2020   \n3279       Ron L Wyden 2020-07-02      06/02/2020   \n\n                                 assetName assetType ticker transactionType  \\\n0         First Trust Europe AlphaDEX Fund     Stock    FEP     Sale (Full)   \n1              JPM Betabuilders Europe ETF     Stock   BBEU        Purchase   \n2        RealNetworks, Inc. - Common Stock     Stock   RNWK     Sale (Full)   \n3                Apple Inc. - Common Stock     Stock   AAPL        Purchase   \n4     Microsoft Corporation - Common Stock     Stock   MSFT  Sale (Partial)   \n...                                    ...       ...    ...             ...   \n3275               The Walt Disney Company     Stock    DIS        Purchase   \n3276               The Walt Disney Company     Stock    DIS        Purchase   \n3277               The Walt Disney Company     Stock    DIS        Purchase   \n3278                      Amazon.com, Inc.     Stock   AMZN        Purchase   \n3279              Berry Global Group, Inc.     Stock   BERY        Purchase   \n\n     house  \n0        S  \n1        S  \n2        S  \n3        S  \n4        S  \n...    ...  \n3275     S  \n3276     S  \n3277     S  \n3278     S  \n3279     S  \n\n[3280 rows x 8 columns]",
      "text/html": "<div>\n<style scoped>\n    .dataframe tbody tr th:only-of-type {\n        vertical-align: middle;\n    }\n\n    .dataframe tbody tr th {\n        vertical-align: top;\n    }\n\n    .dataframe thead th {\n        text-align: right;\n    }\n</style>\n<table border=\"1\" class=\"dataframe\">\n  <thead>\n    <tr style=\"text-align: right;\">\n      <th></th>\n      <th>name</th>\n      <th>reportDate</th>\n      <th>transactionDate</th>\n      <th>assetName</th>\n      <th>assetType</th>\n      <th>ticker</th>\n      <th>transactionType</th>\n      <th>house</th>\n    </tr>\n  </thead>\n  <tbody>\n    <tr>\n      <th>0</th>\n      <td>John Boozman</td>\n      <td>2023-09-07</td>\n      <td>08/29/2023</td>\n      <td>First Trust Europe AlphaDEX Fund</td>\n      <td>Stock</td>\n      <td>FEP</td>\n      <td>Sale (Full)</td>\n      <td>S</td>\n    </tr>\n    <tr>\n      <th>1</th>\n      <td>John Boozman</td>\n      <td>2023-09-07</td>\n      <td>08/29/2023</td>\n      <td>JPM Betabuilders Europe ETF</td>\n      <td>Stock</td>\n      <td>BBEU</td>\n      <td>Purchase</td>\n      <td>S</td>\n    </tr>\n    <tr>\n      <th>2</th>\n      <td>Maria Cantwell</td>\n      <td>2023-01-13</td>\n      <td>12/28/2022</td>\n      <td>RealNetworks, Inc. - Common Stock</td>\n      <td>Stock</td>\n      <td>RNWK</td>\n      <td>Sale (Full)</td>\n      <td>S</td>\n    </tr>\n    <tr>\n      <th>3</th>\n      <td>Shelley M Capito</td>\n      <td>2021-09-15</td>\n      <td>08/25/2021</td>\n      <td>Apple Inc. - Common Stock</td>\n      <td>Stock</td>\n      <td>AAPL</td>\n      <td>Purchase</td>\n      <td>S</td>\n    </tr>\n    <tr>\n      <th>4</th>\n      <td>Shelley M Capito</td>\n      <td>2021-09-15</td>\n      <td>08/17/2021</td>\n      <td>Microsoft Corporation - Common Stock</td>\n      <td>Stock</td>\n      <td>MSFT</td>\n      <td>Sale (Partial)</td>\n      <td>S</td>\n    </tr>\n    <tr>\n      <th>...</th>\n      <td>...</td>\n      <td>...</td>\n      <td>...</td>\n      <td>...</td>\n      <td>...</td>\n      <td>...</td>\n      <td>...</td>\n      <td>...</td>\n    </tr>\n    <tr>\n      <th>3275</th>\n      <td>Ron L Wyden</td>\n      <td>2020-07-02</td>\n      <td>06/12/2020</td>\n      <td>The Walt Disney Company</td>\n      <td>Stock</td>\n      <td>DIS</td>\n      <td>Purchase</td>\n      <td>S</td>\n    </tr>\n    <tr>\n      <th>3276</th>\n      <td>Ron L Wyden</td>\n      <td>2020-07-02</td>\n      <td>06/12/2020</td>\n      <td>The Walt Disney Company</td>\n      <td>Stock</td>\n      <td>DIS</td>\n      <td>Purchase</td>\n      <td>S</td>\n    </tr>\n    <tr>\n      <th>3277</th>\n      <td>Ron L Wyden</td>\n      <td>2020-07-02</td>\n      <td>06/12/2020</td>\n      <td>The Walt Disney Company</td>\n      <td>Stock</td>\n      <td>DIS</td>\n      <td>Purchase</td>\n      <td>S</td>\n    </tr>\n    <tr>\n      <th>3278</th>\n      <td>Ron L Wyden</td>\n      <td>2020-07-02</td>\n      <td>06/02/2020</td>\n      <td>Amazon.com, Inc.</td>\n      <td>Stock</td>\n      <td>AMZN</td>\n      <td>Purchase</td>\n      <td>S</td>\n    </tr>\n    <tr>\n      <th>3279</th>\n      <td>Ron L Wyden</td>\n      <td>2020-07-02</td>\n      <td>06/02/2020</td>\n      <td>Berry Global Group, Inc.</td>\n      <td>Stock</td>\n      <td>BERY</td>\n      <td>Purchase</td>\n      <td>S</td>\n    </tr>\n  </tbody>\n</table>\n<p>3280 rows × 8 columns</p>\n</div>"
     },
     "execution_count": 7,
     "metadata": {},
     "output_type": "execute_result"
    }
   ],
   "source": [
    "import pandas as pd\n",
    "df = pd.DataFrame.from_records(s.to_dict() for s in transactions)\n",
    "df"
   ],
   "metadata": {
    "collapsed": false,
    "ExecuteTime": {
     "end_time": "2023-09-11T01:36:29.390366500Z",
     "start_time": "2023-09-11T01:36:29.358336700Z"
    }
   }
  },
  {
   "cell_type": "code",
   "execution_count": 6,
   "outputs": [
    {
     "data": {
      "text/plain": "'08/29/2023'"
     },
     "execution_count": 6,
     "metadata": {},
     "output_type": "execute_result"
    }
   ],
   "source": [
    "df['transactionDate'][0]"
   ],
   "metadata": {
    "collapsed": false,
    "ExecuteTime": {
     "end_time": "2023-09-11T01:25:16.050467800Z",
     "start_time": "2023-09-11T01:25:16.044461800Z"
    }
   }
  }
 ],
 "metadata": {
  "kernelspec": {
   "display_name": "Python 3",
   "language": "python",
   "name": "python3"
  },
  "language_info": {
   "codemirror_mode": {
    "name": "ipython",
    "version": 2
   },
   "file_extension": ".py",
   "mimetype": "text/x-python",
   "name": "python",
   "nbconvert_exporter": "python",
   "pygments_lexer": "ipython2",
   "version": "2.7.6"
  }
 },
 "nbformat": 4,
 "nbformat_minor": 0
}
